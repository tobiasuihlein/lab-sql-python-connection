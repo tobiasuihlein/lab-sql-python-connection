{
 "cells": [
  {
   "cell_type": "code",
   "execution_count": 52,
   "metadata": {},
   "outputs": [],
   "source": [
    "import pandas as pd\n",
    "from sqlalchemy import create_engine, text\n",
    "import os\n",
    "from dotenv import load_dotenv"
   ]
  },
  {
   "cell_type": "code",
   "execution_count": 53,
   "metadata": {},
   "outputs": [],
   "source": [
    "# Load the password for the databse connection\n",
    "load_dotenv()\n",
    "DB_PW = os.getenv('DB_PW')\n",
    "\n",
    "# Define the connection parameters\n",
    "username = 'root'\n",
    "password = DB_PW\n",
    "host = 'localhost'\n",
    "port = '3306'\n",
    "database = 'sakila'\n",
    "\n",
    "# Create the engine\n",
    "engine = create_engine(f'mysql+pymysql://{username}:{password}@{host}:{port}/{database}')"
   ]
  },
  {
   "cell_type": "code",
   "execution_count": 54,
   "metadata": {},
   "outputs": [],
   "source": [
    "def rentals_month(month, year, engine):\n",
    "    query = text(f\"\"\"\n",
    "    SELECT customer_id, inventory_id FROM rental\n",
    "    WHERE MONTH(rental_date) = :month AND YEAR(rental_date) = :year;\n",
    "    \"\"\")\n",
    "    with engine.connect() as connection:\n",
    "        rentals = pd.read_sql(query, connection, params={\"month\": month, \"year\": year})\n",
    "    return rentals"
   ]
  },
  {
   "cell_type": "code",
   "execution_count": 55,
   "metadata": {},
   "outputs": [],
   "source": [
    "rentals_may_2005 = rentals_month(5, 2005, engine)\n",
    "rentals_june_2005 = rentals_month(6, 2005, engine)"
   ]
  },
  {
   "cell_type": "code",
   "execution_count": 56,
   "metadata": {},
   "outputs": [],
   "source": [
    "def rental_count_month(df_rentals, month, year):\n",
    "    df_rentals_grouped = df_rentals.groupby('customer_id').count().sort_values('inventory_id', ascending=False)\n",
    "    df_rentals_out = pd.DataFrame({'customer_id': df_rentals_grouped.index, f'rentals_{month}_{year}': df_rentals_grouped['inventory_id']}).reset_index(drop=True)\n",
    "    return df_rentals_out"
   ]
  },
  {
   "cell_type": "code",
   "execution_count": 57,
   "metadata": {},
   "outputs": [],
   "source": [
    "df_rentals_out_may_2005 = rental_count_month(rentals_may_2005, 5, 2005)\n",
    "df_rentals_out_june_2005 = rental_count_month(rentals_june_2005, 6, 2005)"
   ]
  },
  {
   "cell_type": "code",
   "execution_count": 58,
   "metadata": {},
   "outputs": [],
   "source": [
    "def compare_rentals(df_1, df_2):\n",
    "    df_compare = pd.merge(df_1, df_2, on='customer_id', how='outer')\n",
    "    df_compare['difference'] = df_compare[f'rentals_5_2005'] - df_compare[f'rentals_6_2005']\n",
    "    return df_compare"
   ]
  },
  {
   "cell_type": "code",
   "execution_count": 59,
   "metadata": {},
   "outputs": [],
   "source": [
    "df_compare = compare_rentals(df_rentals_out_may_2005, df_rentals_out_june_2005)"
   ]
  },
  {
   "cell_type": "code",
   "execution_count": 60,
   "metadata": {},
   "outputs": [
    {
     "data": {
      "text/html": [
       "<div>\n",
       "<style scoped>\n",
       "    .dataframe tbody tr th:only-of-type {\n",
       "        vertical-align: middle;\n",
       "    }\n",
       "\n",
       "    .dataframe tbody tr th {\n",
       "        vertical-align: top;\n",
       "    }\n",
       "\n",
       "    .dataframe thead th {\n",
       "        text-align: right;\n",
       "    }\n",
       "</style>\n",
       "<table border=\"1\" class=\"dataframe\">\n",
       "  <thead>\n",
       "    <tr style=\"text-align: right;\">\n",
       "      <th></th>\n",
       "      <th>customer_id</th>\n",
       "      <th>rentals_5_2005</th>\n",
       "      <th>rentals_6_2005</th>\n",
       "      <th>difference</th>\n",
       "    </tr>\n",
       "  </thead>\n",
       "  <tbody>\n",
       "    <tr>\n",
       "      <th>0</th>\n",
       "      <td>197</td>\n",
       "      <td>8.0</td>\n",
       "      <td>8.0</td>\n",
       "      <td>0.0</td>\n",
       "    </tr>\n",
       "    <tr>\n",
       "      <th>1</th>\n",
       "      <td>109</td>\n",
       "      <td>7.0</td>\n",
       "      <td>5.0</td>\n",
       "      <td>2.0</td>\n",
       "    </tr>\n",
       "    <tr>\n",
       "      <th>2</th>\n",
       "      <td>506</td>\n",
       "      <td>7.0</td>\n",
       "      <td>5.0</td>\n",
       "      <td>2.0</td>\n",
       "    </tr>\n",
       "    <tr>\n",
       "      <th>3</th>\n",
       "      <td>53</td>\n",
       "      <td>6.0</td>\n",
       "      <td>5.0</td>\n",
       "      <td>1.0</td>\n",
       "    </tr>\n",
       "    <tr>\n",
       "      <th>4</th>\n",
       "      <td>269</td>\n",
       "      <td>6.0</td>\n",
       "      <td>3.0</td>\n",
       "      <td>3.0</td>\n",
       "    </tr>\n",
       "  </tbody>\n",
       "</table>\n",
       "</div>"
      ],
      "text/plain": [
       "   customer_id  rentals_5_2005  rentals_6_2005  difference\n",
       "0          197             8.0             8.0         0.0\n",
       "1          109             7.0             5.0         2.0\n",
       "2          506             7.0             5.0         2.0\n",
       "3           53             6.0             5.0         1.0\n",
       "4          269             6.0             3.0         3.0"
      ]
     },
     "execution_count": 60,
     "metadata": {},
     "output_type": "execute_result"
    }
   ],
   "source": [
    "df_compare.head()"
   ]
  }
 ],
 "metadata": {
  "kernelspec": {
   "display_name": "base",
   "language": "python",
   "name": "python3"
  },
  "language_info": {
   "codemirror_mode": {
    "name": "ipython",
    "version": 3
   },
   "file_extension": ".py",
   "mimetype": "text/x-python",
   "name": "python",
   "nbconvert_exporter": "python",
   "pygments_lexer": "ipython3",
   "version": "3.11.7"
  }
 },
 "nbformat": 4,
 "nbformat_minor": 2
}
